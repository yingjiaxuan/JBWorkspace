{
  "nbformat": 4,
  "nbformat_minor": 0,
  "metadata": {
    "colab": {
      "name": "DataPreprocessing.ipynb",
      "provenance": [],
      "collapsed_sections": []
    },
    "kernelspec": {
      "name": "python3",
      "display_name": "Python 3"
    }
  },
  "cells": [
    {
      "cell_type": "code",
      "metadata": {
        "id": "dSrlMudVzkLK",
        "outputId": "498f4ceb-66aa-42d2-faaf-75af7d7819f1",
        "colab": {
          "resources": {
            "http://localhost:8080/nbextensions/google.colab/files.js": {
              "data": "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",
              "ok": true,
              "headers": [
                [
                  "content-type",
                  "application/javascript"
                ]
              ],
              "status": 200,
              "status_text": ""
            }
          },
          "base_uri": "https://localhost:8080/",
          "height": 73
        }
      },
      "source": [
        "# Load the data from the Apporto machine to the Colab environment\n",
        "\n",
        "from google.colab import files\n",
        "uploaded = files.upload()"
      ],
      "execution_count": 1,
      "outputs": [
        {
          "output_type": "display_data",
          "data": {
            "text/html": [
              "\n",
              "     <input type=\"file\" id=\"files-b999b0fa-2c3f-4e5f-8482-3b86ba5bb3a8\" name=\"files[]\" multiple disabled\n",
              "        style=\"border:none\" />\n",
              "     <output id=\"result-b999b0fa-2c3f-4e5f-8482-3b86ba5bb3a8\">\n",
              "      Upload widget is only available when the cell has been executed in the\n",
              "      current browser session. Please rerun this cell to enable.\n",
              "      </output>\n",
              "      <script src=\"/nbextensions/google.colab/files.js\"></script> "
            ],
            "text/plain": [
              "<IPython.core.display.HTML object>"
            ]
          },
          "metadata": {
            "tags": []
          }
        },
        {
          "output_type": "stream",
          "text": [
            "Saving UsedCar_MissingValue.csv to UsedCar_MissingValue.csv\n"
          ],
          "name": "stdout"
        }
      ]
    },
    {
      "cell_type": "code",
      "metadata": {
        "id": "4i9RU4C60E2e"
      },
      "source": [
        "# Pandas is the Python package for data frames\n",
        "# Seaborn is for data visualization\n",
        "\n",
        "import pandas as pd\n",
        "import seaborn as sns"
      ],
      "execution_count": 2,
      "outputs": []
    },
    {
      "cell_type": "code",
      "metadata": {
        "id": "qx6Gdgiv03zY",
        "outputId": "a1d2c50e-d9fb-4863-8f34-491db361b1c1",
        "colab": {
          "base_uri": "https://localhost:8080/",
          "height": 286
        }
      },
      "source": [
        "# Part 1 Data Acquisition\n",
        "\n",
        "# Read data from a CSV file into a data frame\n",
        "df = pd.read_csv('UsedCar_MissingValue.csv')\n",
        "\n",
        "# Display the first ten rows of the data frame to examine if it is an individual-level data set\n",
        "print(df.head(10))\n",
        "\n",
        "# Display the variable list\n",
        "print(df.columns.values)\n",
        "\n",
        "# Display the number of rows and the number of columns in the data set to confirm the portrait shape\n",
        "# The first element of the output is the number of rows and the second is the number of columns \n",
        "print(df.shape)"
      ],
      "execution_count": 3,
      "outputs": [
        {
          "output_type": "stream",
          "text": [
            "     Price   Age       KM Fuel_Type  ...      CC Doors Quarterly_Tax  Weight\n",
            "0  13500.0  23.0  46986.0    Diesel  ...  2000.0   3.0         210.0  1165.0\n",
            "1  13750.0  23.0  72937.0    Diesel  ...  2000.0   3.0         210.0  1165.0\n",
            "2  13950.0  24.0  41711.0    Diesel  ...  2000.0   3.0         210.0  1165.0\n",
            "3  14950.0   NaN      NaN       NaN  ...     NaN   NaN           NaN     NaN\n",
            "4  13750.0  30.0  38500.0    Diesel  ...  2000.0   3.0         210.0  1170.0\n",
            "5  12950.0  32.0  61000.0    Diesel  ...  2000.0   3.0         210.0  1170.0\n",
            "6  16900.0  27.0  94612.0    Diesel  ...  2000.0   3.0         210.0  1245.0\n",
            "7  18600.0  30.0  75889.0    Diesel  ...  2000.0   3.0         210.0  1245.0\n",
            "8  21500.0  27.0  19700.0    Petrol  ...  1800.0   3.0         100.0  1185.0\n",
            "9  12950.0  23.0  71138.0    Diesel  ...  1900.0   3.0         185.0  1105.0\n",
            "\n",
            "[10 rows x 11 columns]\n",
            "['Price' 'Age' 'KM' 'Fuel_Type' 'HP' 'Metallic' 'Automatic' 'CC' 'Doors'\n",
            " 'Quarterly_Tax' 'Weight']\n",
            "(100, 11)\n"
          ],
          "name": "stdout"
        }
      ]
    },
    {
      "cell_type": "code",
      "metadata": {
        "id": "02Y9_DCq2LZG",
        "outputId": "022110fb-77b0-47ac-d9cb-291ed3701566",
        "colab": {
          "base_uri": "https://localhost:8080/",
          "height": 296
        }
      },
      "source": [
        "# Part2 Data Exploration\n",
        "\n",
        "# Generate a scatterplot based on KM and Price\n",
        "\n",
        "# A good programing practice: \n",
        "# We use a set of placeholder variables with pre-determined variable names (e.g., x_var, y_var) to carry problem-specific (or dataset-specific) parameter values (e.g., KM and Price). \n",
        "# Then we use those placeholder variables as the argument values for a method or an operation. \n",
        "# By doing this, later, we just need to change the values of those placeholder variables when we have a different problem (or dataset). \n",
        "\n",
        "# Placeholder variables: x_var, y_var. \n",
        "# (MODIFY THIS PART OF THE CODE FOR A DIFFERENT PROBLEM)\n",
        "x_var = 'KM'\n",
        "y_var = 'Price'\n",
        "\n",
        "# Draw the scatterplot\n",
        "df.plot.scatter(x=x_var, y=y_var, legend=False)"
      ],
      "execution_count": null,
      "outputs": [
        {
          "output_type": "execute_result",
          "data": {
            "text/plain": [
              "<matplotlib.axes._subplots.AxesSubplot at 0x7f80e78efcc0>"
            ]
          },
          "metadata": {
            "tags": []
          },
          "execution_count": 8
        },
        {
          "output_type": "display_data",
          "data": {
            "image/png": "[encoded data removed]",
            "text/plain": [
              "<Figure size 432x288 with 1 Axes>"
            ]
          },
          "metadata": {
            "tags": [],
            "needs_background": "light"
          }
        }
      ]
    },
    {
      "cell_type": "code",
      "metadata": {
        "id": "ojdQv97l5KPE",
        "outputId": "be82a165-eaa6-40e8-8543-4c1ede401dd4",
        "colab": {
          "base_uri": "https://localhost:8080/",
          "height": 530
        }
      },
      "source": [
        "# Draw a heat map for all the numerical variables in the data frame\n",
        "\n",
        "# Placeholder variables: df4heatmaps\n",
        "# (MODIFY THIS PART OF THE CODE FOR A DIFFERENT PROBLEM)\n",
        "df4heatmaps = df\n",
        "\n",
        "\n",
        "# Compute the correlation matrix \n",
        "corr = df4heatmaps.corr()\n",
        "# Print the correlation matrix\n",
        "print(corr)\n",
        "# Draw the heatmap\n",
        "sns.heatmap(corr, xticklabels=corr.columns, yticklabels=corr.columns)"
      ],
      "execution_count": null,
      "outputs": [
        {
          "output_type": "stream",
          "text": [
            "                  Price       Age        KM  ...     Doors  Quarterly_Tax    Weight\n",
            "Price          1.000000 -0.106704 -0.068429  ...  0.051753       0.180809  0.579760\n",
            "Age           -0.106704  1.000000 -0.077147  ...  0.223002      -0.276595 -0.154935\n",
            "KM            -0.068429 -0.077147  1.000000  ...  0.023027       0.592243  0.396187\n",
            "HP             0.637656  0.241590 -0.183834  ... -0.109083      -0.228946  0.248563\n",
            "CC             0.135741 -0.029227 -0.032651  ...  0.094328       0.100368  0.192225\n",
            "Doors          0.051753  0.223002  0.023027  ...  1.000000      -0.067540 -0.047267\n",
            "Quarterly_Tax  0.180809 -0.276595  0.592243  ... -0.067540       1.000000  0.813306\n",
            "Weight         0.579760 -0.154935  0.396187  ... -0.047267       0.813306  1.000000\n",
            "\n",
            "[8 rows x 8 columns]\n"
          ],
          "name": "stdout"
        },
        {
          "output_type": "execute_result",
          "data": {
            "text/plain": [
              "<matplotlib.axes._subplots.AxesSubplot at 0x7f80e7876780>"
            ]
          },
          "metadata": {
            "tags": []
          },
          "execution_count": 7
        },
        {
          "output_type": "display_data",
          "data": {
            "image/png": "[encoded data removed]",
            "text/plain": [
              "<Figure size 432x288 with 2 Axes>"
            ]
          },
          "metadata": {
            "tags": [],
            "needs_background": "light"
          }
        }
      ]
    },
    {
      "cell_type": "code",
      "metadata": {
        "id": "SetDFTOW69Xf",
        "outputId": "1f193651-8c1f-41b0-e0b3-ec07dc6d4244",
        "colab": {
          "base_uri": "https://localhost:8080/",
          "height": 319
        }
      },
      "source": [
        "# Draw a side-by-side box plot to detect if a categorical variable is correlated with a numerical variable\n",
        "\n",
        "\n",
        "# Placeholder variables: x_var, y_var, df4ssb \n",
        "# (MODIFY THIS PART OF THE CODE FOR A DIFFERENT PROBLEM)\n",
        "x_var = 'Fuel_Type'\n",
        "y_var = 'Price'\n",
        "df4ssb = df\n",
        "\n",
        "# Generate the side-by-side box plot. ax is the side-by-side boxplot object\n",
        "ax = df4ssb.boxplot(column=y_var, by=x_var)\n",
        "# Set the label on the y-axis using set_ylabel method of the object ax\n",
        "ax.set_ylabel(y_var)"
      ],
      "execution_count": null,
      "outputs": [
        {
          "output_type": "execute_result",
          "data": {
            "text/plain": [
              "Text(0, 0.5, 'Price')"
            ]
          },
          "metadata": {
            "tags": []
          },
          "execution_count": 6
        },
        {
          "output_type": "display_data",
          "data": {
            "image/png": "[encoded data removed]",
            "text/plain": [
              "<Figure size 432x288 with 1 Axes>"
            ]
          },
          "metadata": {
            "tags": [],
            "needs_background": "light"
          }
        }
      ]
    },
    {
      "cell_type": "code",
      "metadata": {
        "id": "LWQNql93xXiF",
        "outputId": "a426dacb-8bb1-47df-cced-bc0a7d6c202d",
        "colab": {
          "base_uri": "https://localhost:8080/",
          "height": 490
        }
      },
      "source": [
        "# Part 3 Missing Value Imputation\n",
        "\n",
        "# Show the number of missing values for each variable in the data frame\n",
        "df.isnull().sum()\n",
        "\n",
        "# What if we drop all the observations that contains missing values\n",
        "print(df.dropna())\n",
        "\n",
        "\n",
        "# Drop the observations that contain missing dependent variable values\n",
        "# Placeholder variable is DV\n",
        "DV = 'Price'\n",
        "df_sample1 = df.dropna(subset=[DV])\n",
        "\n",
        "# print(df_sample1)\n",
        "\n",
        "# Separate all the variables into two lists for future column indexing\n",
        "# One for numerical, the other for categorical \n",
        "cvar_list = ['Fuel_Type', 'Metallic', 'Automatic', 'Doors']\n",
        "nvar_list = ['Price', 'Age', 'KM', 'HP', 'CC', 'Quarterly_Tax', 'Weight']\n",
        "\n",
        "# Impute numerical missing values using sample median\n",
        "df_sample2 = df_sample1.copy()\n",
        "df_sample2[nvar_list] = df_sample1[nvar_list].fillna(value=df_sample1[nvar_list].median())\n",
        "\n",
        "\n",
        "# Get the unique values of the categorical variable Fuel_Type\n",
        "df_sample2['Fuel_Type'].unique()\n",
        "\n",
        "# Get the unique values of each categorical variables in the data frame\n",
        "def column_unique_values(x_column):\n",
        "  return list(x_column.unique())\n",
        "\n",
        "df_sample2[cvar_list].apply(column_unique_values)\n",
        "\n",
        "# Replace the irregular values with the null values which represent missing values in Python\n",
        "# Placeholder variable: irregular_var, irregular_value \n",
        "irregular_var = 'Fuel_Type'\n",
        "irregular_value = '?'\n",
        "\n",
        "# pd.np.nan refers to null values in Python\n",
        "df_sample3 = df_sample2.copy()\n",
        "df_sample3[irregular_var] = df_sample2[irregular_var].replace(irregular_value, pd.np.nan)\n",
        "\n",
        "# Impute the categorical missing values using sample mode\n",
        "df_sample4 = df_sample3.copy()\n",
        "df_sample4[cvar_list] = df_sample3[cvar_list].fillna(value=df_sample3[cvar_list].mode().loc[0,:])\n",
        "\n",
        "# Check if there is any missing value left\n",
        "df_sample4.isnull().sum()\n"
      ],
      "execution_count": 4,
      "outputs": [
        {
          "output_type": "stream",
          "text": [
            "      Price   Age       KM Fuel_Type  ...      CC Doors Quarterly_Tax  Weight\n",
            "0   13500.0  23.0  46986.0    Diesel  ...  2000.0   3.0         210.0  1165.0\n",
            "1   13750.0  23.0  72937.0    Diesel  ...  2000.0   3.0         210.0  1165.0\n",
            "2   13950.0  24.0  41711.0    Diesel  ...  2000.0   3.0         210.0  1165.0\n",
            "4   13750.0  30.0  38500.0    Diesel  ...  2000.0   3.0         210.0  1170.0\n",
            "5   12950.0  32.0  61000.0    Diesel  ...  2000.0   3.0         210.0  1170.0\n",
            "..      ...   ...      ...       ...  ...     ...   ...           ...     ...\n",
            "95  19950.0  17.0  30351.0    Diesel  ...  1995.0   3.0         234.0  1260.0\n",
            "96  15950.0  19.0  29435.0    Petrol  ...  1400.0   3.0          85.0  1100.0\n",
            "97  15950.0  19.0  25948.0    Petrol  ...  1400.0   3.0          85.0  1100.0\n",
            "98  18750.0  11.0  24500.0    Petrol  ...  1600.0   3.0          85.0  1120.0\n",
            "99  16950.0  29.0  43905.0    Petrol  ...  1600.0   3.0         100.0  1170.0\n",
            "\n",
            "[79 rows x 11 columns]\n"
          ],
          "name": "stdout"
        },
        {
          "output_type": "stream",
          "text": [
            "/usr/local/lib/python3.6/dist-packages/ipykernel_launcher.py:43: FutureWarning: The pandas.np module is deprecated and will be removed from pandas in a future version. Import numpy directly instead\n"
          ],
          "name": "stderr"
        },
        {
          "output_type": "execute_result",
          "data": {
            "text/plain": [
              "Price            0\n",
              "Age              0\n",
              "KM               0\n",
              "Fuel_Type        0\n",
              "HP               0\n",
              "Metallic         0\n",
              "Automatic        0\n",
              "CC               0\n",
              "Doors            0\n",
              "Quarterly_Tax    0\n",
              "Weight           0\n",
              "dtype: int64"
            ]
          },
          "metadata": {
            "tags": []
          },
          "execution_count": 4
        }
      ]
    },
    {
      "cell_type": "code",
      "metadata": {
        "id": "x8YJFw9nuDwJ",
        "outputId": "e3508a2f-e501-40a3-d8fb-3cabaaf9452b",
        "colab": {
          "base_uri": "https://localhost:8080/",
          "height": 521
        }
      },
      "source": [
        "# Part 4 Variable transformation\n",
        "\n",
        "# Standardize the numerical variables \n",
        "df_sample5 = df_sample4.copy()\n",
        "df_sample5[nvar_list] = (df_sample4[nvar_list] - df_sample4[nvar_list].mean())/df_sample4[nvar_list].std()\n",
        "\n",
        "# Set the datatype for the variables in the cvar_list to be categorical in Python\n",
        "# Set the datatype for the variables in the nvar_list to be numerical in Python \n",
        "df_sample6 = df_sample5.copy()\n",
        "df_sample6[cvar_list] = df_sample5[cvar_list].astype('category')\n",
        "df_sample6[nvar_list] = df_sample5[nvar_list].astype('float64')\n",
        "\n",
        "# Convert the categorical variables into dummies (Step 1 of dummy coding)\n",
        "# prefix_sep is the sympol used to create the dummy variable names.\n",
        "# For example, if we choose underscore _, the dummy variable name will be Fuel_Type_Diesel\n",
        "# If we choose dash -, it will be Fuel_Type-Diesel\n",
        "df_sample7 = df_sample6.copy()\n",
        "df_sample7 = pd.get_dummies(df_sample6, prefix_sep='_')\n",
        "\n",
        "# Remove the redundant dummies (Step 2 of dummy coding)\n",
        "# Placeholder variable: rdummies\n",
        "rdummies = ['Fuel_Type_Petrol', 'Metallic_No', 'Automatic_N', 'Doors_5.0']\n",
        "df_sample8 = df_sample7.copy()\n",
        "df_sample8 = df_sample7.drop(columns=rdummies)\n",
        "\n",
        "# Get the remaining variable list after the variable transformation\n",
        "print(df_sample8.columns.values)\n",
        "\n",
        "# Display the milestone dataframe. Compare it with the original dataframe.\n",
        "print(df_sample8)\n",
        "print(df)"
      ],
      "execution_count": 6,
      "outputs": [
        {
          "output_type": "stream",
          "text": [
            "['Price' 'Age' 'KM' 'HP' 'CC' 'Quarterly_Tax' 'Weight' 'Fuel_Type_Diesel'\n",
            " 'Metallic_Yes' 'Automatic_Y' 'Doors_3.0']\n",
            "       Price       Age        KM  ...  Metallic_Yes  Automatic_Y  Doors_3.0\n",
            "0  -1.512692 -0.689998  0.341034  ...             1            0          1\n",
            "1  -1.408163 -0.689998  1.644866  ...             1            0          1\n",
            "2  -1.324540 -0.443025  0.076007  ...             1            0          1\n",
            "3  -0.906424  0.297896 -0.284027  ...             1            0          1\n",
            "4  -1.408163  1.038816 -0.085320  ...             0            0          1\n",
            "..       ...       ...       ...  ...           ...          ...        ...\n",
            "95  1.184157 -2.171839 -0.494742  ...             1            0          1\n",
            "96 -0.488308 -1.677892 -0.540764  ...             1            0          1\n",
            "97 -0.488308 -1.677892 -0.715958  ...             1            0          1\n",
            "98  0.682417 -3.653680 -0.788709  ...             1            0          1\n",
            "99 -0.070192  0.791843  0.186239  ...             0            1          1\n",
            "\n",
            "[97 rows x 11 columns]\n",
            "      Price   Age       KM Fuel_Type  ...      CC Doors Quarterly_Tax  Weight\n",
            "0   13500.0  23.0  46986.0    Diesel  ...  2000.0   3.0         210.0  1165.0\n",
            "1   13750.0  23.0  72937.0    Diesel  ...  2000.0   3.0         210.0  1165.0\n",
            "2   13950.0  24.0  41711.0    Diesel  ...  2000.0   3.0         210.0  1165.0\n",
            "3   14950.0   NaN      NaN       NaN  ...     NaN   NaN           NaN     NaN\n",
            "4   13750.0  30.0  38500.0    Diesel  ...  2000.0   3.0         210.0  1170.0\n",
            "..      ...   ...      ...       ...  ...     ...   ...           ...     ...\n",
            "95  19950.0  17.0  30351.0    Diesel  ...  1995.0   3.0         234.0  1260.0\n",
            "96  15950.0  19.0  29435.0    Petrol  ...  1400.0   3.0          85.0  1100.0\n",
            "97  15950.0  19.0  25948.0    Petrol  ...  1400.0   3.0          85.0  1100.0\n",
            "98  18750.0  11.0  24500.0    Petrol  ...  1600.0   3.0          85.0  1120.0\n",
            "99  16950.0  29.0  43905.0    Petrol  ...  1600.0   3.0         100.0  1170.0\n",
            "\n",
            "[100 rows x 11 columns]\n"
          ],
          "name": "stdout"
        }
      ]
    }
  ]
}